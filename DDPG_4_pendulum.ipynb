{
 "cells": [
  {
   "cell_type": "code",
   "execution_count": 3,
   "metadata": {},
   "outputs": [],
   "source": [
    "import torch\n",
    "from torch import nn\n",
    "from torch.nn import functional as F\n",
    "import numpy as np\n",
    "import matplotlib.pyplot as plt\n",
    "import matplotlib\n",
    "import cvxpy as cp\n",
    "import collections\n",
    "import random\n",
    "%matplotlib notebook \n",
    "%matplotlib inline   \n",
    "\n",
    "from systems_and_functions.control_affine_system import ControlAffineSystem\n",
    "from systems_and_functions.cart_pole_system import CartPole\n",
    "from systems_and_functions.inverted_pendulum_system import InvertedPendulum\n",
    "from systems_and_functions.networks import PolicyNet, QValueNet\n",
    "from systems_and_functions.ddpg_process import DDPGProcess\n",
    "\n",
    "device = torch.device('cuda') if torch.cuda.is_available() else torch.device('cpu')"
   ]
  },
  {
   "cell_type": "code",
   "execution_count": null,
   "metadata": {},
   "outputs": [],
   "source": [
    "params={'m': 1,'L': 1.0, 'b': 0.5}\n",
    "controller_params = {'K':np.array([[15,  4]])}\n",
    "# controller_params = {'K':np.array([[14,  3]])}\n",
    "p1 = InvertedPendulum(system_params = params,\n",
    "                      controller_params = controller_params,\n",
    "                      dt = 0.01, \n",
    "                      controller_period = 0.01)\n",
    "\n",
    "p1.linearize_and_compute_LQR()\n",
    "\n",
    "ddpg1 = DDPGProcess(system = p1,\n",
    "                    actor_bound = 50,\n",
    "                    n_hiddens_policy = 32,\n",
    "                    n_hiddens_critic = 64,\n",
    "                    sigma = 0.5,\n",
    "                    tau = 0.3,\n",
    "                    gamma = 0.9,\n",
    "                    replay_buffer_capacity = 1000,\n",
    "                    min_training_batch = 1000,\n",
    "                    device = torch.device('cuda') if torch.cuda.is_available() else torch.device('cpu'),\n",
    "                    save_path = 'experiment_results/DDPG/')\n",
    "\n",
    "\n",
    "ddpg1.DDPG_main_iteration(iteration = 40,\n",
    "                          plot_x_initial = torch.tensor([[2],[-2]]),\n",
    "                          plot_step_num = 1000)"
   ]
  },
  {
   "cell_type": "code",
   "execution_count": null,
   "metadata": {},
   "outputs": [],
   "source": [
    "ddpg1.initialize_policy_net(x_train_lim = 10,\n",
    "                                    x_test_lim = 12,\n",
    "                                    sample_num = 2000,\n",
    "                                    iteration = 1*10**4,\n",
    "                                    lr = 1e-3)\n",
    "\n",
    "sim_data_ = ddpg1.system.simulate_rk4(x_initial = torch.tensor([[2],[-2]]), \n",
    "                                            step_number = 200,\n",
    "                                            use_controller = 1,\n",
    "                                            the_controller = ddpg1.actor.Controller)\n",
    "step2norm2ball,step2unitball,step2converge = ddpg1.system.convergence_judgment(sim_data_)\n",
    "\n",
    "ddpg1.system.plot_phase_portrait(data_sim = sim_data_,\n",
    "                        arrow_on = 0,\n",
    "                        title = 'after PI in iteration {}'.format(0),\n",
    "                        save_fig = 0,\n",
    "                        save_path =  ddpg1.save_path + 'figs/')\n",
    "\n",
    "print('reward: ',ddpg1.record_rollout_reward(sim_data_))"
   ]
  }
 ],
 "metadata": {
  "kernelspec": {
   "display_name": "pytorch",
   "language": "python",
   "name": "python3"
  },
  "language_info": {
   "codemirror_mode": {
    "name": "ipython",
    "version": 3
   },
   "file_extension": ".py",
   "mimetype": "text/x-python",
   "name": "python",
   "nbconvert_exporter": "python",
   "pygments_lexer": "ipython3",
   "version": "3.11.8"
  }
 },
 "nbformat": 4,
 "nbformat_minor": 2
}
