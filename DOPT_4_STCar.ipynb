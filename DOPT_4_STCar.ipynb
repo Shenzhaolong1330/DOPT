{
 "cells": [
  {
   "cell_type": "code",
   "execution_count": 1,
   "metadata": {},
   "outputs": [],
   "source": [
    "import torch\n",
    "from torch import nn\n",
    "from torch.nn import functional as F\n",
    "import numpy as np\n",
    "import matplotlib\n",
    "# matplotlib.use('agg')\n",
    "import matplotlib.pyplot as plt\n",
    "import matplotlib.cm as cm\n",
    "import cvxpy as cp\n",
    "from systems_and_functions.control_affine_system import ControlAffineSystem\n",
    "from systems_and_functions.cart_pole_system import CartPole\n",
    "from systems_and_functions.inverted_pendulum_system import InvertedPendulum\n",
    "from systems_and_functions.networks import PolicyNet, LyapunovNet, DFunctionNet\n",
    "from systems_and_functions.single_track_car_system import SingleTrackCar\n",
    "from systems_and_functions.off_policy_dlearning_process import OffPolicyDlearningProcess\n",
    "\n",
    "%matplotlib notebook \n",
    "%matplotlib inline   \n",
    "\n",
    "device = torch.device('cuda') if torch.cuda.is_available() else torch.device('cpu')"
   ]
  },
  {
   "cell_type": "code",
   "execution_count": 2,
   "metadata": {},
   "outputs": [
    {
     "name": "stdout",
     "output_type": "stream",
     "text": [
      "No controller is involved.\n"
     ]
    }
   ],
   "source": [
    "system_params = {'psi_ref': 0.5, 'v_ref': 1, 'a_ref': 0.0, 'omega_ref': 0, 'mu_scale': 0.1}\n",
    "\n",
    "car1 = SingleTrackCar(\n",
    "    system_params = system_params,\n",
    "    controller_params = None,\n",
    "    dt = 0.01,\n",
    "    controller_period = 0.01)"
   ]
  },
  {
   "cell_type": "code",
   "execution_count": 3,
   "metadata": {},
   "outputs": [
    {
     "name": "stdout",
     "output_type": "stream",
     "text": [
      "-------------------------------Main Iteration------------------------------\n"
     ]
    },
    {
     "name": "stderr",
     "output_type": "stream",
     "text": [
      "S-Curve: 100%|██████████| 499/499 [00:10<00:00, 46.56it/s]\n",
      "d:\\Codes\\DOPT\\systems_and_functions\\off_policy_dlearning_process.py:156: UserWarning: To copy construct from a tensor, it is recommended to use sourceTensor.clone().detach() or sourceTensor.clone().detach().requires_grad_(True), rather than torch.tensor(sourceTensor).\n",
      "  K = torch.tensor(-self.system.K)\n"
     ]
    },
    {
     "name": "stdout",
     "output_type": "stream",
     "text": [
      "-----------------Convergence Speed and Judgment-----------------\n",
      "--------------It takes 0 steps to norm 2 ball;--------------\n",
      "---------------It takes 110 steps to unit ball;---------------\n",
      "----------------It takes 158 steps to converge.--------------\n",
      "---------------------Initializing Policy------------------------\n",
      "Epoch [1000/10000], Loss: 0.4151304960\n",
      "Epoch [2000/10000], Loss: 0.1742244661\n",
      "Epoch [3000/10000], Loss: 0.1182963550\n",
      "Epoch [4000/10000], Loss: 0.0893906206\n",
      "Epoch [5000/10000], Loss: 0.0717419311\n",
      "Epoch [6000/10000], Loss: 0.0594449118\n",
      "Epoch [7000/10000], Loss: 0.0502335839\n",
      "Epoch [8000/10000], Loss: 0.0431765318\n",
      "Epoch [9000/10000], Loss: 0.0375371426\n",
      "Epoch [10000/10000], Loss: 0.0329906046\n",
      "-------------------------Direct Update--------------------------\n"
     ]
    },
    {
     "name": "stderr",
     "output_type": "stream",
     "text": [
      "S-Curve: 100%|██████████| 499/499 [00:09<00:00, 50.46it/s]\n"
     ]
    },
    {
     "name": "stdout",
     "output_type": "stream",
     "text": [
      "-----------------Convergence Speed and Judgment-----------------\n",
      "--------------It takes 0 steps to norm 2 ball;--------------\n",
      "---------------It takes 109 steps to unit ball;---------------\n",
      "----------------It takes 157 steps to converge.--------------\n"
     ]
    },
    {
     "name": "stderr",
     "output_type": "stream",
     "text": [
      "d:\\Codes\\DOPT\\systems_and_functions\\single_track_car_system.py:854: UserWarning: FigureCanvasAgg is non-interactive, and thus cannot be shown\n",
      "  fig.show()\n",
      "d:\\Codes\\DOPT\\systems_and_functions\\single_track_car_system.py:650: UserWarning: FigureCanvasAgg is non-interactive, and thus cannot be shown\n",
      "  fig.show()\n"
     ]
    },
    {
     "name": "stdout",
     "output_type": "stream",
     "text": [
      "---------------------------------Iteration 1-------------------------------\n",
      "------------------Sampling Training Data STCar------------------\n"
     ]
    },
    {
     "name": "stderr",
     "output_type": "stream",
     "text": [
      "sample state space: 100%|██████████| 2000/2000 [00:39<00:00, 50.46it/s]\n"
     ]
    },
    {
     "name": "stdout",
     "output_type": "stream",
     "text": [
      "--------------------------Learning V----------------------------\n"
     ]
    }
   ],
   "source": [
    "d1 = OffPolicyDlearningProcess(system = car1,\n",
    "                               actor_bound=100.0,\n",
    "                               n_hiddens_policy=32,\n",
    "                               n_hiddens_lyapunov=64,\n",
    "                               n_hiddens_dfunction=64,\n",
    "                               tau = 0.2,\n",
    "                               replay_buffer_capacity = 4000,\n",
    "                               sample_num = 2000,\n",
    "                               save_path = 'experiment_results/DOPT/')\n",
    "\n",
    "delta_x = torch.tensor([[-1, -1]], dtype=torch.float32)\n",
    "\n",
    "d1.off_policy_dlearning_main_iteration_4_stcar(iteration=20,\n",
    "                                               delta_x = delta_x,\n",
    "                                               plot_time_span = 5.0,)"
   ]
  }
 ],
 "metadata": {
  "kernelspec": {
   "display_name": "pytorch",
   "language": "python",
   "name": "python3"
  },
  "language_info": {
   "codemirror_mode": {
    "name": "ipython",
    "version": 3
   },
   "file_extension": ".py",
   "mimetype": "text/x-python",
   "name": "python",
   "nbconvert_exporter": "python",
   "pygments_lexer": "ipython3",
   "version": "3.11.8"
  }
 },
 "nbformat": 4,
 "nbformat_minor": 2
}
